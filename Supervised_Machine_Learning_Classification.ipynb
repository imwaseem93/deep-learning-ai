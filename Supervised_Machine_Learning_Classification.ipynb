{
  "nbformat": 4,
  "nbformat_minor": 0,
  "metadata": {
    "colab": {
      "provenance": [],
      "gpuType": "T4",
      "authorship_tag": "ABX9TyPJt4KmlexXrX3jC3qZjh2V",
      "include_colab_link": true
    },
    "kernelspec": {
      "name": "python3",
      "display_name": "Python 3"
    },
    "language_info": {
      "name": "python"
    },
    "accelerator": "GPU"
  },
  "cells": [
    {
      "cell_type": "markdown",
      "metadata": {
        "id": "view-in-github",
        "colab_type": "text"
      },
      "source": [
        "<a href=\"https://colab.research.google.com/github/imwaseem93/deep-learning-ai/blob/main/Supervised_Machine_Learning_Classification.ipynb\" target=\"_parent\"><img src=\"https://colab.research.google.com/assets/colab-badge.svg\" alt=\"Open In Colab\"/></a>"
      ]
    },
    {
      "cell_type": "code",
      "execution_count": 1,
      "metadata": {
        "id": "0HW7qq44qtju"
      },
      "outputs": [],
      "source": [
        "import pandas as pd\n",
        "import numpy as np\n",
        "import matplotlib.pyplot as plt\n",
        "import seaborn as sns\n",
        "from sklearn.model_selection import train_test_split, cross_val_score\n",
        "from sklearn.preprocessing import StandardScaler\n",
        "from sklearn.linear_model import LogisticRegression\n",
        "from sklearn.ensemble import RandomForestClassifier, GradientBoostingClassifier\n",
        "from sklearn.metrics import accuracy_score, roc_auc_score, confusion_matrix\n",
        "import warnings\n",
        "warnings.filterwarnings('ignore')"
      ]
    },
    {
      "cell_type": "code",
      "source": [
        "# Load Ames Housing Dataset from local CSV\n",
        "# Replace 'path/to/AmesHousing.csv' with the actual file path (e.g., 'C:/Users/YourName/Downloads/AmesHousing.csv')\n",
        "url = '/content/AmesHousing.csv'\n",
        "data = pd.read_csv(url)\n",
        "# Define features with correct column names from the dataset\n",
        "features = ['Overall Qual', 'Gr Liv Area', 'Garage Cars', 'Total Bsmt SF', 'Full Bath', 'Year Built']\n",
        "# Check if all features exist\n",
        "missing_cols = [col for col in features if col not in data.columns]\n",
        "if missing_cols:\n",
        "    print(f\"Error: Columns {missing_cols} not found in dataset. Available columns: {data.columns.tolist()}\")\n",
        "    exit()\n"
      ],
      "metadata": {
        "id": "sg3eGCDqq_OX"
      },
      "execution_count": 6,
      "outputs": []
    },
    {
      "cell_type": "code",
      "source": [
        "# Data Preprocessing\n",
        "# Create binary target: 1 if SalePrice > median, 0 otherwise\n",
        "median_price = data['SalePrice'].median()\n",
        "data['HighPrice'] = (data['SalePrice'] > median_price).astype(int)\n",
        "# Drop rows with missing values in selected features or SalePrice\n",
        "data = data[features + ['SalePrice', 'HighPrice']].dropna()\n",
        "print(f'Dataset size after cleaning: {len(data)}')\n",
        "print('Missing values after cleaning:\\n', data.isnull().sum())"
      ],
      "metadata": {
        "colab": {
          "base_uri": "https://localhost:8080/"
        },
        "id": "VJmVzif0BJvc",
        "outputId": "17ce99c1-2cf4-4840-bed0-c3abc10d650f"
      },
      "execution_count": 7,
      "outputs": [
        {
          "output_type": "stream",
          "name": "stdout",
          "text": [
            "Dataset size after cleaning: 2928\n",
            "Missing values after cleaning:\n",
            " Overall Qual     0\n",
            "Gr Liv Area      0\n",
            "Garage Cars      0\n",
            "Total Bsmt SF    0\n",
            "Full Bath        0\n",
            "Year Built       0\n",
            "SalePrice        0\n",
            "HighPrice        0\n",
            "dtype: int64\n"
          ]
        }
      ]
    },
    {
      "cell_type": "code",
      "source": [
        "# Visualize distributions\n",
        "plt.figure(figsize=(12, 8))\n",
        "data[features].hist(bins=30, figsize=(12, 8))\n",
        "plt.tight_layout()\n",
        "plt.savefig('feature_distributions.png')\n",
        "plt.close()\n"
      ],
      "metadata": {
        "colab": {
          "base_uri": "https://localhost:8080/",
          "height": 35
        },
        "id": "pD9iNwZJrTCH",
        "outputId": "555fb2ab-3eaf-47e0-9f74-ee27f22e2fbe"
      },
      "execution_count": 8,
      "outputs": [
        {
          "output_type": "display_data",
          "data": {
            "text/plain": [
              "<Figure size 1200x800 with 0 Axes>"
            ]
          },
          "metadata": {}
        }
      ]
    },
    {
      "cell_type": "code",
      "source": [
        "# Correlation matrix\n",
        "plt.figure(figsize=(10, 8))\n",
        "sns.heatmap(data[features + ['HighPrice']].corr(), annot=True, cmap='coolwarm', fmt='.2f')\n",
        "plt.title('Correlation Matrix')\n",
        "plt.savefig('correlation_matrix.png')\n",
        "plt.close()"
      ],
      "metadata": {
        "id": "NGTBWwfCrS-g"
      },
      "execution_count": 9,
      "outputs": []
    },
    {
      "cell_type": "code",
      "source": [
        "# Split data\n",
        "X = data[features]\n",
        "y = data['HighPrice']\n",
        "X_train, X_test, y_train, y_test = train_test_split(X, y, test_size=0.2, random_state=42)\n",
        "\n",
        "# Standardize features\n",
        "scaler = StandardScaler()\n",
        "X_train_scaled = scaler.fit_transform(X_train)\n",
        "X_test_scaled = scaler.transform(X_test)"
      ],
      "metadata": {
        "id": "wUfbu5JRrS7W"
      },
      "execution_count": 10,
      "outputs": []
    },
    {
      "cell_type": "code",
      "source": [
        "# Train models\n",
        "models = {\n",
        "    'Logistic Regression': LogisticRegression(random_state=42),\n",
        "    'Random Forest': RandomForestClassifier(n_estimators=100, random_state=42),\n",
        "    'Gradient Boosting': GradientBoostingClassifier(n_estimators=100, random_state=42)\n",
        "}\n",
        "results = {}\n",
        "\n",
        "for name, model in models.items():\n",
        "    model.fit(X_train_scaled, y_train)\n",
        "    y_pred = model.predict(X_test_scaled)\n",
        "    accuracy = accuracy_score(y_test, y_pred)\n",
        "    auc = roc_auc_score(y_test, y_pred)\n",
        "    cv_scores = cross_val_score(model, X_train_scaled, y_train, cv=5, scoring='accuracy')\n",
        "    results[name] = {'accuracy': accuracy, 'auc': auc, 'cv_mean': cv_scores.mean(), 'cv_std': cv_scores.std()}\n",
        "    print(f'{name}:\\nAccuracy: {accuracy:.3f}, AUC: {auc:.3f}, CV Accuracy: {cv_scores.mean():.3f} ± {cv_scores.std():.3f}')\n"
      ],
      "metadata": {
        "colab": {
          "base_uri": "https://localhost:8080/"
        },
        "id": "RpX-S6r-rSxr",
        "outputId": "736d6807-e5c4-46fd-8101-8dfad3342ef5"
      },
      "execution_count": 11,
      "outputs": [
        {
          "output_type": "stream",
          "name": "stdout",
          "text": [
            "Logistic Regression:\n",
            "Accuracy: 0.892, AUC: 0.893, CV Accuracy: 0.902 ± 0.005\n",
            "Random Forest:\n",
            "Accuracy: 0.911, AUC: 0.911, CV Accuracy: 0.910 ± 0.009\n",
            "Gradient Boosting:\n",
            "Accuracy: 0.901, AUC: 0.901, CV Accuracy: 0.913 ± 0.008\n"
          ]
        }
      ]
    },
    {
      "cell_type": "code",
      "source": [
        "# Plot model comparison\n",
        "plt.figure(figsize=(10, 6))\n",
        "metrics = pd.DataFrame({\n",
        "    'Model': results.keys(),\n",
        "    'Accuracy': [results[m]['accuracy'] for m in results],\n",
        "    'AUC': [results[m]['auc'] for m in results]\n",
        "})\n",
        "metrics.plot(x='Model', kind='bar', figsize=(10, 6))\n",
        "plt.title('Model Performance Comparison')\n",
        "plt.ylabel('Score')\n",
        "plt.savefig('model_performance.png')\n",
        "plt.close()"
      ],
      "metadata": {
        "colab": {
          "base_uri": "https://localhost:8080/",
          "height": 35
        },
        "id": "YNq26UI4rSg_",
        "outputId": "8ba67373-5800-40bb-dc13-58b7f693728e"
      },
      "execution_count": 12,
      "outputs": [
        {
          "output_type": "display_data",
          "data": {
            "text/plain": [
              "<Figure size 1000x600 with 0 Axes>"
            ]
          },
          "metadata": {}
        }
      ]
    },
    {
      "cell_type": "code",
      "source": [
        "# Feature importance for Random Forest\n",
        "rf_model = models['Random Forest']\n",
        "feature_importance = pd.DataFrame({\n",
        "    'Feature': features,\n",
        "    'Importance': rf_model.feature_importances_\n",
        "}).sort_values('Importance', ascending=False)\n",
        "plt.figure(figsize=(8, 5))\n",
        "sns.barplot(x='Importance', y='Feature', data=feature_importance)\n",
        "plt.title('Random Forest Feature Importance')\n",
        "plt.savefig('feature_importance.png')\n",
        "plt.close()\n"
      ],
      "metadata": {
        "id": "yWJ_uw5LrnoU"
      },
      "execution_count": 13,
      "outputs": []
    },
    {
      "cell_type": "code",
      "source": [
        "# Confusion matrix for Gradient Boosting\n",
        "gb_model = models['Gradient Boosting']\n",
        "y_pred_gb = gb_model.predict(X_test_scaled)\n",
        "cm = confusion_matrix(y_test, y_pred_gb)\n",
        "plt.figure(figsize=(6, 5))\n",
        "sns.heatmap(cm, annot=True, fmt='d', cmap='Blues')\n",
        "plt.title('Gradient Boosting Confusion Matrix')\n",
        "plt.xlabel('Predicted')\n",
        "plt.ylabel('Actual')\n",
        "plt.savefig('confusion_matrix.png')\n",
        "plt.close()\n"
      ],
      "metadata": {
        "id": "qDBMqSeirrP0"
      },
      "execution_count": 14,
      "outputs": []
    },
    {
      "cell_type": "code",
      "source": [
        "print('Analysis complete. Visualizations saved.')"
      ],
      "metadata": {
        "id": "IFhAoHhRABB0"
      },
      "execution_count": null,
      "outputs": []
    }
  ]
}